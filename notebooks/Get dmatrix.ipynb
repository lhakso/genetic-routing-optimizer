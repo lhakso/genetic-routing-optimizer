{
 "cells": [
  {
   "cell_type": "code",
   "execution_count": 3,
   "id": "29f91204",
   "metadata": {},
   "outputs": [],
   "source": [
    "import numpy as np\n",
    "\n",
    "matrix = np.load(\"matrix_cluster.npy\")\n",
    "\n",
    "np.savetxt(\"distance_matrix.csv\", matrix, delimiter=\",\", fmt=\"%.6f\")\n"
   ]
  },
  {
   "cell_type": "code",
   "execution_count": 5,
   "id": "91d7d514",
   "metadata": {},
   "outputs": [
    {
     "data": {
      "text/plain": [
       "534"
      ]
     },
     "execution_count": 5,
     "metadata": {},
     "output_type": "execute_result"
    }
   ],
   "source": [
    "len(matrix)"
   ]
  },
  {
   "cell_type": "code",
   "execution_count": 6,
   "id": "5eeb66c7",
   "metadata": {},
   "outputs": [
    {
     "data": {
      "text/plain": [
       "array([[   0.  ,    0.  ,  145.  , ..., 5848.9 , 5875.6 , 5894.25],\n",
       "       [   0.  ,    0.  ,  145.  , ..., 5848.9 , 5875.6 , 5894.25],\n",
       "       [ 145.  ,  145.  ,    0.  , ..., 5993.9 , 6020.55, 6039.2 ],\n",
       "       ...,\n",
       "       [5848.9 , 5848.9 , 5993.9 , ...,    0.  ,   26.7 ,   45.4 ],\n",
       "       [5875.6 , 5875.6 , 6020.55, ...,   26.7 ,    0.  ,   18.7 ],\n",
       "       [5894.25, 5894.25, 6039.2 , ...,   45.4 ,   18.7 ,    0.  ]],\n",
       "      shape=(534, 534))"
      ]
     },
     "execution_count": 6,
     "metadata": {},
     "output_type": "execute_result"
    }
   ],
   "source": [
    "matrix"
   ]
  }
 ],
 "metadata": {
  "kernelspec": {
   "display_name": "Python (kempv2)",
   "language": "python",
   "name": ".kempv2"
  },
  "language_info": {
   "codemirror_mode": {
    "name": "ipython",
    "version": 3
   },
   "file_extension": ".py",
   "mimetype": "text/x-python",
   "name": "python",
   "nbconvert_exporter": "python",
   "pygments_lexer": "ipython3",
   "version": "3.13.3"
  }
 },
 "nbformat": 4,
 "nbformat_minor": 5
}
