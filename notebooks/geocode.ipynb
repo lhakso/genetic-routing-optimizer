{
 "cells": [
  {
   "cell_type": "code",
   "execution_count": 18,
   "id": "fb40e3c4-29dd-4db7-9fcd-0466ce437df0",
   "metadata": {},
   "outputs": [],
   "source": [
    "import pandas as pd\n",
    "import numpy as np\n",
    "import requests\n",
    "import json"
   ]
  },
  {
   "cell_type": "code",
   "execution_count": 14,
   "id": "f2f3d909-d2ac-4d1e-ba1f-abd82ef29480",
   "metadata": {},
   "outputs": [],
   "source": [
    "addresses = pd.read_csv('addresses.csv')['full_address'].tolist()"
   ]
  },
  {
   "cell_type": "code",
   "execution_count": 28,
   "id": "49355e02-90c0-4c26-a5b8-4e30552a52b4",
   "metadata": {},
   "outputs": [],
   "source": [
    "def geocode(address: str):\n",
    "    # The address of your Photon server, accessed through the SSH tunnel on your MacBook\n",
    "    photon_api_url_on_macbook = \"http://localhost:8000/api\"\n",
    "    \n",
    "    # Construct the query parameters\n",
    "    params_forward = {\n",
    "        'q': address,\n",
    "        'limit': 1 # Optionally limit the number of results\n",
    "    }\n",
    "    \n",
    "    try:\n",
    "        response_forward = requests.get(photon_api_url_on_macbook, params=params_forward)\n",
    "        response_forward.raise_for_status()  # Raise an exception for HTTP errors (4xx or 5xx)\n",
    "        \n",
    "        geocoding_results = response_forward.json() # Parse the JSON response\n",
    "        \n",
    "        #print(f\"Geocoding results for {address}:\")\n",
    "        \n",
    "        # can extract coordinates or other info from the results\n",
    "        if geocoding_results.get('features'):\n",
    "            first_result = geocoding_results['features'][0]\n",
    "            coordinates = first_result.get('geometry', {}).get('coordinates')\n",
    "            properties = first_result.get('properties', {})\n",
    "            \n",
    "            #print(f\"Name: {properties.get('name')}, City: {properties.get('city')}, Country: {properties.get('country')}\")\n",
    "            \n",
    "        #return json.dumps(geocoding_results, indent=2)\n",
    "        return coordinates\n",
    "            \n",
    "    except requests.exceptions.RequestException as e:\n",
    "        print(f\"Error connecting to Photon server: {e}\")\n",
    "    except json.JSONDecodeError:\n",
    "        print(f\"Error decoding JSON response: {response_forward.text}\")"
   ]
  },
  {
   "cell_type": "code",
   "execution_count": 42,
   "id": "1827037e-b153-4616-92db-ae70c75bc3cc",
   "metadata": {},
   "outputs": [],
   "source": [
    "addresses[215]\n",
    "problem_address = '11816-11998 CORLISS AVE NE SEATTLE, WA'"
   ]
  },
  {
   "cell_type": "code",
   "execution_count": 23,
   "id": "0eab87d8-c3fd-4554-b931-5a742f4a4cb1",
   "metadata": {},
   "outputs": [],
   "source": [
    "coords_array = np.zeros((703,2))"
   ]
  },
  {
   "cell_type": "code",
   "execution_count": 47,
   "id": "598f21b7-d72a-4ebc-a386-c7727e4e55d9",
   "metadata": {},
   "outputs": [
    {
     "name": "stdout",
     "output_type": "stream",
     "text": [
      "215\n",
      "CPU times: user 2.23 s, sys: 1.04 s, total: 3.27 s\n",
      "Wall time: 1min 53s\n"
     ]
    }
   ],
   "source": [
    "%%time\n",
    "for i, address in enumerate(addresses):\n",
    "    try:\n",
    "        coords_array[i] = geocode(address)\n",
    "    except UnboundLocalError:\n",
    "        print(i)"
   ]
  },
  {
   "cell_type": "code",
   "execution_count": 30,
   "id": "7f58fb0a-f794-4c18-8634-19ea2357b390",
   "metadata": {},
   "outputs": [
    {
     "data": {
      "text/plain": [
       "array([[-122.35584   ,   47.7220511 ],\n",
       "       [-122.35584   ,   47.7220511 ],\n",
       "       [-122.3559837 ,   47.7216444 ],\n",
       "       ...,\n",
       "       [-122.2951472 ,   47.7093109 ],\n",
       "       [-122.29516345,   47.7090713 ],\n",
       "       [-122.29515651,   47.70890285]], shape=(703, 2))"
      ]
     },
     "execution_count": 30,
     "metadata": {},
     "output_type": "execute_result"
    }
   ],
   "source": [
    "coords_array"
   ]
  },
  {
   "cell_type": "code",
   "execution_count": 36,
   "id": "ff360aa7-05f0-4983-bbdd-e6e3c854f799",
   "metadata": {},
   "outputs": [],
   "source": [
    "df = pd.DataFrame({\n",
    "    'address': addresses,\n",
    "    'latitude': coords_array[:,0],\n",
    "    'longitude': coords_array[:,1]\n",
    "})"
   ]
  },
  {
   "cell_type": "code",
   "execution_count": 40,
   "id": "5f9e33cf-cec3-490b-b5f2-2763914b65b6",
   "metadata": {},
   "outputs": [
    {
     "data": {
      "text/html": [
       "<div>\n",
       "<style scoped>\n",
       "    .dataframe tbody tr th:only-of-type {\n",
       "        vertical-align: middle;\n",
       "    }\n",
       "\n",
       "    .dataframe tbody tr th {\n",
       "        vertical-align: top;\n",
       "    }\n",
       "\n",
       "    .dataframe thead th {\n",
       "        text-align: right;\n",
       "    }\n",
       "</style>\n",
       "<table border=\"1\" class=\"dataframe\">\n",
       "  <thead>\n",
       "    <tr style=\"text-align: right;\">\n",
       "      <th></th>\n",
       "      <th>address</th>\n",
       "      <th>latitude</th>\n",
       "      <th>longitude</th>\n",
       "    </tr>\n",
       "  </thead>\n",
       "  <tbody>\n",
       "    <tr>\n",
       "      <th>0</th>\n",
       "      <td>12717 B GREENWOOD AVE N SEATTLE, WA</td>\n",
       "      <td>-122.355840</td>\n",
       "      <td>47.722051</td>\n",
       "    </tr>\n",
       "    <tr>\n",
       "      <th>1</th>\n",
       "      <td>12717 A GREENWOOD AVE N SEATTLE, WA</td>\n",
       "      <td>-122.355840</td>\n",
       "      <td>47.722051</td>\n",
       "    </tr>\n",
       "    <tr>\n",
       "      <th>2</th>\n",
       "      <td>12701 GREENWOOD AVE N SEATTLE, WA</td>\n",
       "      <td>-122.355984</td>\n",
       "      <td>47.721644</td>\n",
       "    </tr>\n",
       "    <tr>\n",
       "      <th>3</th>\n",
       "      <td>12704 PALATINE AVE N SEATTLE, WA</td>\n",
       "      <td>-122.356552</td>\n",
       "      <td>47.721630</td>\n",
       "    </tr>\n",
       "    <tr>\n",
       "      <th>4</th>\n",
       "      <td>12507 A GREENWOOD AVE N SEATTLE, WA</td>\n",
       "      <td>-122.355991</td>\n",
       "      <td>47.721153</td>\n",
       "    </tr>\n",
       "    <tr>\n",
       "      <th>...</th>\n",
       "      <td>...</td>\n",
       "      <td>...</td>\n",
       "      <td>...</td>\n",
       "    </tr>\n",
       "    <tr>\n",
       "      <th>698</th>\n",
       "      <td>11039 31 AVE NE SEATTLE, WA</td>\n",
       "      <td>-122.295245</td>\n",
       "      <td>47.709597</td>\n",
       "    </tr>\n",
       "    <tr>\n",
       "      <th>699</th>\n",
       "      <td>11035 31 AVE NE SEATTLE, WA</td>\n",
       "      <td>-122.295244</td>\n",
       "      <td>47.709486</td>\n",
       "    </tr>\n",
       "    <tr>\n",
       "      <th>700</th>\n",
       "      <td>11027 31 AVE NE SEATTLE, WA</td>\n",
       "      <td>-122.295147</td>\n",
       "      <td>47.709311</td>\n",
       "    </tr>\n",
       "    <tr>\n",
       "      <th>701</th>\n",
       "      <td>11021 31 AVE NE SEATTLE, WA</td>\n",
       "      <td>-122.295163</td>\n",
       "      <td>47.709071</td>\n",
       "    </tr>\n",
       "    <tr>\n",
       "      <th>702</th>\n",
       "      <td>11017 31 AVE NE SEATTLE, WA</td>\n",
       "      <td>-122.295157</td>\n",
       "      <td>47.708903</td>\n",
       "    </tr>\n",
       "  </tbody>\n",
       "</table>\n",
       "<p>702 rows × 3 columns</p>\n",
       "</div>"
      ],
      "text/plain": [
       "                                 address    latitude  longitude\n",
       "0    12717 B GREENWOOD AVE N SEATTLE, WA -122.355840  47.722051\n",
       "1    12717 A GREENWOOD AVE N SEATTLE, WA -122.355840  47.722051\n",
       "2      12701 GREENWOOD AVE N SEATTLE, WA -122.355984  47.721644\n",
       "3       12704 PALATINE AVE N SEATTLE, WA -122.356552  47.721630\n",
       "4    12507 A GREENWOOD AVE N SEATTLE, WA -122.355991  47.721153\n",
       "..                                   ...         ...        ...\n",
       "698          11039 31 AVE NE SEATTLE, WA -122.295245  47.709597\n",
       "699          11035 31 AVE NE SEATTLE, WA -122.295244  47.709486\n",
       "700          11027 31 AVE NE SEATTLE, WA -122.295147  47.709311\n",
       "701          11021 31 AVE NE SEATTLE, WA -122.295163  47.709071\n",
       "702          11017 31 AVE NE SEATTLE, WA -122.295157  47.708903\n",
       "\n",
       "[702 rows x 3 columns]"
      ]
     },
     "execution_count": 40,
     "metadata": {},
     "output_type": "execute_result"
    }
   ],
   "source": [
    "df.drop(215)"
   ]
  }
 ],
 "metadata": {
  "kernelspec": {
   "display_name": "Python (kempv2)",
   "language": "python",
   "name": ".kempv2"
  },
  "language_info": {
   "codemirror_mode": {
    "name": "ipython",
    "version": 3
   },
   "file_extension": ".py",
   "mimetype": "text/x-python",
   "name": "python",
   "nbconvert_exporter": "python",
   "pygments_lexer": "ipython3",
   "version": "3.13.3"
  }
 },
 "nbformat": 4,
 "nbformat_minor": 5
}
